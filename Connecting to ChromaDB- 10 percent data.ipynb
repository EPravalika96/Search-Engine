{
 "cells": [
  {
   "cell_type": "code",
   "execution_count": 5,
   "id": "5f0828f3",
   "metadata": {},
   "outputs": [],
   "source": [
    "import numpy as np\n",
    "import pandas as pd\n",
    "\n",
    "df_emd = pd.read_csv('embedded_df_10_percent.csv')"
   ]
  },
  {
   "cell_type": "code",
   "execution_count": 6,
   "id": "6565f103",
   "metadata": {},
   "outputs": [],
   "source": [
    "import sqlite3"
   ]
  },
  {
   "cell_type": "code",
   "execution_count": 7,
   "id": "1870fae8",
   "metadata": {},
   "outputs": [],
   "source": [
    "db_path = '/Users/eleshalapravalika/Downloads/SEARCH ENGINE PROJECT/chromadb_2.db'\n",
    "conn = sqlite3.connect(db_path)"
   ]
  },
  {
   "cell_type": "code",
   "execution_count": 8,
   "id": "e27a94c8",
   "metadata": {},
   "outputs": [
    {
     "data": {
      "text/plain": [
       "8250"
      ]
     },
     "execution_count": 8,
     "metadata": {},
     "output_type": "execute_result"
    }
   ],
   "source": [
    "df_emd.to_sql(\"datawith10percent\", conn, if_exists=\"replace\", index=False)"
   ]
  },
  {
   "cell_type": "code",
   "execution_count": 9,
   "id": "8b698527",
   "metadata": {},
   "outputs": [
    {
     "name": "stdout",
     "output_type": "stream",
     "text": [
      "DataFrame from           num                                               name  \\\n",
      "0     9254799  charmed.s05.e19.nymphs.just.wanna.have.fun.(20...   \n",
      "1     9203148  american.gothic.s01.e05.the.artist.in.his.muse...   \n",
      "2     9397935  call.the.midwife.christmas.special.2022.(2022)...   \n",
      "3     9228156  dynasty.s05.e20.first.kidnapping.and.now.theft...   \n",
      "4     9321247  harry.wild.s01.e04.an.unhappy.happy.is.a.dange...   \n",
      "...       ...                                                ...   \n",
      "8245  9279299  in.sickness.and.in.health.s05.e05.episode.5.5....   \n",
      "8246  9344377  too.hot.to.handle.s04.e04.flavia.of.the.month....   \n",
      "8247  9455317  south.park.s26.e03.japanese.toilets.(2023).eng...   \n",
      "8248  9490207  everybody.hates.chris.s04.e08.everybody.hates....   \n",
      "8249  9463438  legend.of.the.seeker.s01.e17.deception.(2009)....   \n",
      "\n",
      "                                                content  \\\n",
      "0     b'PK\\x03\\x04\\x14\\x00\\x00\\x00\\x08\\x004\\xab\\x99V...   \n",
      "1     b'PK\\x03\\x04\\x14\\x00\\x00\\x00\\x08\\x00[\\x8d\\x99V...   \n",
      "2     b'PK\\x03\\x04\\x14\\x00\\x00\\x00\\x08\\x00%%\\x9aVx\\x...   \n",
      "3     b'PK\\x03\\x04\\x14\\x00\\x00\\x00\\x08\\x00\\xc8\\x94\\x...   \n",
      "4     b'PK\\x03\\x04\\x14\\x00\\x00\\x00\\x08\\x00\\x81\\xb2\\x...   \n",
      "...                                                 ...   \n",
      "8245  b'PK\\x03\\x04\\x14\\x00\\x00\\x00\\x08\\x00s\\xa1\\x99V...   \n",
      "8246  b'PK\\x03\\x04\\x14\\x00\\x00\\x00\\x08\\x00\\xf0\\xbc\\x...   \n",
      "8247  b'PK\\x03\\x04\\x14\\x00\\x00\\x00\\x08\\x00A_\\x9aV\\xf...   \n",
      "8248  b'PK\\x03\\x04\\x14\\x00\\x00\\x00\\x08\\x00\\x11p\\x9aV...   \n",
      "8249  b'PK\\x03\\x04\\x14\\x00\\x00\\x00\\x08\\x00\\xbbd\\x9aV...   \n",
      "\n",
      "                                           file_content  \\\n",
      "0     panpipe playing xavier i guess my invitation m...   \n",
      "1     ipreviously oni american gothic you left this ...   \n",
      "2     advertise your product or brand here contact w...   \n",
      "3     blake well theres no proof that heart arrhythm...   \n",
      "4     watch any video online with opensubtitles free...   \n",
      "...                                                 ...   \n",
      "8245  chas and dave in sickness and in health now my...   \n",
      "8246  advertise your product or brand here contact w...   \n",
      "8247  see stan you gotta choose if you wanna be in g...   \n",
      "8248  got a little something for you man she is a fl...   \n",
      "8249  you be the hiders ill be the seeker all right ...   \n",
      "\n",
      "                                           chunked_text  \\\n",
      "0     ['panpipe playing xavier i guess my invitation...   \n",
      "1     ['ipreviously oni american gothic you left thi...   \n",
      "2     ['advertise your product or brand here contact...   \n",
      "3     ['blake well theres no proof that heart arrhyt...   \n",
      "4     ['watch any video online with opensubtitles fr...   \n",
      "...                                                 ...   \n",
      "8245  ['chas and dave in sickness and in health now ...   \n",
      "8246  ['advertise your product or brand here contact...   \n",
      "8247  ['see stan you gotta choose if you wanna be in...   \n",
      "8248  ['got a little something for you man she is a ...   \n",
      "8249  ['you be the hiders ill be the seeker all righ...   \n",
      "\n",
      "                                       chunk_embeddings  \n",
      "0     [[ 0.03584047  0.03165121 -0.00295835 ...  0.0...  \n",
      "1     [[ 0.02112301  0.07433403  0.00573038 ...  0.0...  \n",
      "2     [[ 0.05199184  0.04898094 -0.02018332 ...  0.0...  \n",
      "3     [[ 0.02338401  0.11838938 -0.00499445 ...  0.0...  \n",
      "4     [[ 0.01602994  0.02240247  0.01665707 ...  0.0...  \n",
      "...                                                 ...  \n",
      "8245  [[ 2.3927758e-02  2.4172761e-02  3.0255115e-03...  \n",
      "8246  [[ 0.08386179  0.04480912 -0.00519678 ...  0.0...  \n",
      "8247  [[ 0.0523822   0.08041365  0.00353261 ...  0.0...  \n",
      "8248  [[ 0.04076678  0.07189492 -0.01349953 ...  0.0...  \n",
      "8249  [[ 1.89376697e-02  7.14324266e-02  1.29973423e...  \n",
      "\n",
      "[8250 rows x 6 columns] is successfully saved to ChromaDB using SQLite: /Users/eleshalapravalika/Downloads/SEARCH ENGINE PROJECT/chromadb_2.db\n"
     ]
    }
   ],
   "source": [
    "print(f\"DataFrame from {df_emd} is successfully saved to ChromaDB using SQLite: {db_path}\")"
   ]
  },
  {
   "cell_type": "code",
   "execution_count": 13,
   "id": "d6889255",
   "metadata": {},
   "outputs": [
    {
     "data": {
      "text/plain": [
       "131072"
      ]
     },
     "execution_count": 13,
     "metadata": {},
     "output_type": "execute_result"
    }
   ],
   "source": [
    "import csv\n",
    "csv.field_size_limit(100000000)"
   ]
  },
  {
   "cell_type": "code",
   "execution_count": 14,
   "id": "88d22a55",
   "metadata": {},
   "outputs": [],
   "source": [
    "with open('embedded_df_10_percent.csv') as file:\n",
    "    lines = csv.reader(file)\n",
    "    documents = []\n",
    "    metadatas = []\n",
    "    ids = []\n",
    "    id = 1\n",
    "\n",
    "    for i, line in enumerate(lines):\n",
    "        if i==0:\n",
    "            # Skipping first row (the column headers)\n",
    "            continue\n",
    "\n",
    "        documents.append(line[1])\n",
    "        metadatas.append({\"item_id\": line[0]})\n",
    "        ids.append(str(id))\n",
    "        id+=1"
   ]
  },
  {
   "cell_type": "code",
   "execution_count": 15,
   "id": "1f7e4ced",
   "metadata": {},
   "outputs": [],
   "source": [
    "import chromadb\n",
    "from chromadb.utils import embedding_functions\n",
    "chroma_client_1 = chromadb.PersistentClient(path=\"my_chromadb\")"
   ]
  },
  {
   "cell_type": "code",
   "execution_count": 24,
   "id": "4dafd497",
   "metadata": {},
   "outputs": [],
   "source": [
    "sentence_transformer_ef = embedding_functions.SentenceTransformerEmbeddingFunction(model_name=\"all-mpnet-base-v2\")\n",
    "collection_1 = chroma_client_1.get_or_create_collection(name=\"my_collection_1\", embedding_function=sentence_transformer_ef,metadata ={\"hnsw:space\":\"cosine\"})"
   ]
  },
  {
   "cell_type": "code",
   "execution_count": 27,
   "id": "4cb69ea9",
   "metadata": {},
   "outputs": [],
   "source": [
    "collection_1.add(\n",
    "    documents=documents,\n",
    "    metadatas=metadatas,\n",
    "    ids=ids\n",
    ")"
   ]
  },
  {
   "cell_type": "code",
   "execution_count": 54,
   "id": "714e2270",
   "metadata": {},
   "outputs": [
    {
     "name": "stdout",
     "output_type": "stream",
     "text": [
      "- conversations.with.a.killer.the.jeffrey.dahmer.tapes.s01.e02.can.i.take.your.picture.(2022).eng.1cd\n",
      "- strange.evidence.s05.e04.omen.of.satans.crown.(2021).eng.1cd\n",
      "- hot.take.the.deppheard.trial.().eng.1cd\n",
      "- the.midnight.club.s01.e10.midnight.(2022).eng.1cd\n",
      "- spirit.halloween.(2022).eng.1cd\n",
      "- mr.midnight.beware.the.monsters.s01.e13.stay.in.your.grave.(2022).eng.1cd\n",
      "- little.demon.s01.e07.satans.lot.(2022).eng.1cd\n",
      "- little.demon.s01.e07.satans.lot.(2022).eng.1cd\n",
      "- detective.conan.the.bride.of.halloween.(2022).eng.1cd\n",
      "- the.girls.guide.to.depravity.s02.e05.the.get.under.another.rule.(2013).eng.1cd\n"
     ]
    }
   ],
   "source": [
    "results = collection_1.query(\n",
    "    query_texts=[\"got a little something for you man\"],\n",
    "    n_results=10,\n",
    "    include=['documents', 'distances', 'metadatas']\n",
    ")\n",
    "\n",
    "for document in results['documents'][0]:\n",
    "    print(f\"- {document}\")\n",
    "\n"
   ]
  },
  {
   "cell_type": "code",
   "execution_count": 48,
   "id": "ed3d2dca",
   "metadata": {},
   "outputs": [
    {
     "name": "stdout",
     "output_type": "stream",
     "text": [
      "[['cunk.on.earth.s01.e01.in.the.beginnings.(2022).eng.1cd', 'cunk.on.earth.s01.e01.in.the.beginnings.(2022).eng.1cd', 'so.help.me.todd.s01.e08.big.bang.theories.(2022).eng.1cd', 'so.help.me.todd.s01.e08.big.bang.theories.(2022).eng.1cd', 'tulsa.king.s01.e02.center.of.the.universe.(2022).eng.1cd', 'nova.s31.e11.origins.earth.is.born.(2004).eng.1cd', 'heman.and.the.masters.of.the.universe.s01.e24.separation.(2003).eng.1cd', 'crash.course.s01.e10.the.end.the.beginning.(2022).eng.1cd', 'heman.and.the.masters.of.the.universe.s01.e11.turnabout.(2002).eng.1cd', 'the.good.fight.s06.e01.the.beginning.of.the.end.(2022).eng.1cd']]\n"
     ]
    }
   ],
   "source": [
    "results = collection_1.query(\n",
    "    query_texts=[\"Big Bang\"],\n",
    "    n_results=10,\n",
    "    include=['documents', 'distances', 'metadatas']\n",
    ")\n",
    "print(results['documents'])\n"
   ]
  },
  {
   "cell_type": "code",
   "execution_count": 50,
   "id": "3787e50a",
   "metadata": {},
   "outputs": [
    {
     "name": "stdout",
     "output_type": "stream",
     "text": [
      "- cunk.on.earth.s01.e01.in.the.beginnings.(2022).eng.1cd\n",
      "- cunk.on.earth.s01.e01.in.the.beginnings.(2022).eng.1cd\n",
      "- so.help.me.todd.s01.e08.big.bang.theories.(2022).eng.1cd\n",
      "- so.help.me.todd.s01.e08.big.bang.theories.(2022).eng.1cd\n",
      "- tulsa.king.s01.e02.center.of.the.universe.(2022).eng.1cd\n",
      "- nova.s31.e11.origins.earth.is.born.(2004).eng.1cd\n",
      "- heman.and.the.masters.of.the.universe.s01.e24.separation.(2003).eng.1cd\n",
      "- crash.course.s01.e10.the.end.the.beginning.(2022).eng.1cd\n",
      "- heman.and.the.masters.of.the.universe.s01.e11.turnabout.(2002).eng.1cd\n",
      "- the.good.fight.s06.e01.the.beginning.of.the.end.(2022).eng.1cd\n"
     ]
    }
   ],
   "source": [
    "results = collection_1.query(\n",
    "    query_texts=[\"Big Bang\"],\n",
    "    n_results=10,\n",
    "    include=['documents', 'distances', 'metadatas']\n",
    ")\n",
    "\n",
    "for document in results['documents'][0]:\n",
    "    print(f\"- {document}\")\n"
   ]
  },
  {
   "cell_type": "code",
   "execution_count": null,
   "id": "62a440dc",
   "metadata": {},
   "outputs": [],
   "source": []
  }
 ],
 "metadata": {
  "kernelspec": {
   "display_name": "Python 3 (ipykernel)",
   "language": "python",
   "name": "python3"
  },
  "language_info": {
   "codemirror_mode": {
    "name": "ipython",
    "version": 3
   },
   "file_extension": ".py",
   "mimetype": "text/x-python",
   "name": "python",
   "nbconvert_exporter": "python",
   "pygments_lexer": "ipython3",
   "version": "3.11.4"
  }
 },
 "nbformat": 4,
 "nbformat_minor": 5
}
